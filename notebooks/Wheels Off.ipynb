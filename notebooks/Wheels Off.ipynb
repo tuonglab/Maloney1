{
 "cells": [
  {
   "cell_type": "code",
   "execution_count": 6,
   "metadata": {},
   "outputs": [
    {
     "name": "stdout",
     "output_type": "stream",
     "text": [
      "scanpy==1.9.3 anndata==0.9.1 umap==0.5.3 numpy==1.24.4 scipy==1.11.1 pandas==2.0.3 scikit-learn==1.3.0 statsmodels==0.14.0 python-igraph==0.10.6 pynndescent==0.5.10\n"
     ]
    }
   ],
   "source": [
    "import numpy as np\n",
    "import pandas as pd\n",
    "import scanpy as sc\n",
    "\n",
    "sc.settings.verbosity = 3             # verbosity: errors (0), warnings (1), info (2), hints (3)\n",
    "sc.logging.print_header()\n",
    "sc.settings.set_figure_params(dpi=80, facecolor='white')\n"
   ]
  },
  {
   "cell_type": "code",
   "execution_count": 7,
   "metadata": {},
   "outputs": [],
   "source": [
    "results_file = 'write/wheels_off.h5ad'  # the file that will store the analysis results"
   ]
  },
  {
   "cell_type": "code",
   "execution_count": 8,
   "metadata": {},
   "outputs": [
    {
     "ename": "AttributeError",
     "evalue": "module 'os' has no attribute 'getwd'",
     "output_type": "error",
     "traceback": [
      "\u001b[1;31m---------------------------------------------------------------------------\u001b[0m",
      "\u001b[1;31mAttributeError\u001b[0m                            Traceback (most recent call last)",
      "Cell \u001b[1;32mIn[8], line 3\u001b[0m\n\u001b[0;32m      1\u001b[0m \u001b[39mimport\u001b[39;00m \u001b[39mos\u001b[39;00m\n\u001b[1;32m----> 3\u001b[0m os\u001b[39m.\u001b[39;49mgetwd()\n\u001b[0;32m      4\u001b[0m os\u001b[39m.\u001b[39mchdir(\u001b[39m\"\u001b[39m\u001b[39m/Users/malon/OneDrive/Documents/GitHub/Maloney1/data/\u001b[39m\u001b[39m\"\u001b[39m)\n",
      "\u001b[1;31mAttributeError\u001b[0m: module 'os' has no attribute 'getwd'"
     ]
    }
   ],
   "source": [
    "import os\n",
    "\n",
    "os.getwd()\n",
    "os.chdir(\"/Users/malon/OneDrive/Documents/GitHub/Maloney1/data/\")"
   ]
  },
  {
   "cell_type": "code",
   "execution_count": 9,
   "metadata": {},
   "outputs": [],
   "source": [
    "file_location = \"/Users/malon/OneDrive/Documents/GitHub/Maloney1/data/pbmc3k_filtered_gene_bc_matrices_wheelsoff.tar.gz\""
   ]
  },
  {
   "cell_type": "code",
   "execution_count": null,
   "metadata": {},
   "outputs": [],
   "source": [
    "# !tar -xzvf /Users/malon/OneDrive/Documents/GitHub/Maloney1/data/pbmc3k_filtered_gene_bc_matrices.tar.gz"
   ]
  },
  {
   "cell_type": "code",
   "execution_count": 10,
   "metadata": {},
   "outputs": [
    {
     "ename": "FileNotFoundError",
     "evalue": "Did not find file \\Users\\malon\\OneDrive\\Documents\\GitHub\\Maloney1\\data\\filtered_gene_bc_matrices_wheelsoff\\matrix.mtx.gz.",
     "output_type": "error",
     "traceback": [
      "\u001b[1;31m---------------------------------------------------------------------------\u001b[0m",
      "\u001b[1;31mFileNotFoundError\u001b[0m                         Traceback (most recent call last)",
      "Cell \u001b[1;32mIn[10], line 4\u001b[0m\n\u001b[0;32m      1\u001b[0m input_file \u001b[39m=\u001b[39m \u001b[39m\"\u001b[39m\u001b[39m/Users/malon/OneDrive/Documents/GitHub/Maloney1/data/filtered_gene_bc_matrices_wheelsoff\u001b[39m\u001b[39m\"\u001b[39m\n\u001b[0;32m      2\u001b[0m results_file \u001b[39m=\u001b[39m \u001b[39m\"\u001b[39m\u001b[39m/Users/malon/OneDrive/Documents/GitHub/Maloney1/write/wheels_off.h5ad\u001b[39m\u001b[39m\"\u001b[39m  \u001b[39m# the file that will store the analysis results\u001b[39;00m\n\u001b[1;32m----> 4\u001b[0m adata \u001b[39m=\u001b[39m sc\u001b[39m.\u001b[39;49mread_10x_mtx(\n\u001b[0;32m      5\u001b[0m     input_file,  \u001b[39m# the directory with the `.mtx` file\u001b[39;49;00m\n\u001b[0;32m      6\u001b[0m     var_names\u001b[39m=\u001b[39;49m\u001b[39m'\u001b[39;49m\u001b[39mgene_symbols\u001b[39;49m\u001b[39m'\u001b[39;49m,                \u001b[39m# use gene symbols for the variable names (variables-axis index)\u001b[39;49;00m\n\u001b[0;32m      7\u001b[0m     )                              \u001b[39m# write a cache file for faster subsequent reading\u001b[39;00m\n\u001b[0;32m      9\u001b[0m adata\u001b[39m.\u001b[39mvar_names_make_unique()\n",
      "File \u001b[1;32mc:\\Users\\malon\\anaconda3\\envs\\CCHR\\lib\\site-packages\\scanpy\\readwrite.py:490\u001b[0m, in \u001b[0;36mread_10x_mtx\u001b[1;34m(path, var_names, make_unique, cache, cache_compression, gex_only, prefix)\u001b[0m\n\u001b[0;32m    488\u001b[0m genefile_exists \u001b[39m=\u001b[39m (path \u001b[39m/\u001b[39m \u001b[39mf\u001b[39m\u001b[39m'\u001b[39m\u001b[39m{\u001b[39;00mprefix\u001b[39m}\u001b[39;00m\u001b[39mgenes.tsv\u001b[39m\u001b[39m'\u001b[39m)\u001b[39m.\u001b[39mis_file()\n\u001b[0;32m    489\u001b[0m read \u001b[39m=\u001b[39m _read_legacy_10x_mtx \u001b[39mif\u001b[39;00m genefile_exists \u001b[39melse\u001b[39;00m _read_v3_10x_mtx\n\u001b[1;32m--> 490\u001b[0m adata \u001b[39m=\u001b[39m read(\n\u001b[0;32m    491\u001b[0m     \u001b[39mstr\u001b[39;49m(path),\n\u001b[0;32m    492\u001b[0m     var_names\u001b[39m=\u001b[39;49mvar_names,\n\u001b[0;32m    493\u001b[0m     make_unique\u001b[39m=\u001b[39;49mmake_unique,\n\u001b[0;32m    494\u001b[0m     cache\u001b[39m=\u001b[39;49mcache,\n\u001b[0;32m    495\u001b[0m     cache_compression\u001b[39m=\u001b[39;49mcache_compression,\n\u001b[0;32m    496\u001b[0m     prefix\u001b[39m=\u001b[39;49mprefix,\n\u001b[0;32m    497\u001b[0m )\n\u001b[0;32m    498\u001b[0m \u001b[39mif\u001b[39;00m genefile_exists \u001b[39mor\u001b[39;00m \u001b[39mnot\u001b[39;00m gex_only:\n\u001b[0;32m    499\u001b[0m     \u001b[39mreturn\u001b[39;00m adata\n",
      "File \u001b[1;32mc:\\Users\\malon\\anaconda3\\envs\\CCHR\\lib\\site-packages\\scanpy\\readwrite.py:554\u001b[0m, in \u001b[0;36m_read_v3_10x_mtx\u001b[1;34m(path, var_names, make_unique, cache, cache_compression, prefix)\u001b[0m\n\u001b[0;32m    550\u001b[0m \u001b[39m\u001b[39m\u001b[39m\"\"\"\u001b[39;00m\n\u001b[0;32m    551\u001b[0m \u001b[39mRead mtx from output from Cell Ranger v3 or later versions\u001b[39;00m\n\u001b[0;32m    552\u001b[0m \u001b[39m\"\"\"\u001b[39;00m\n\u001b[0;32m    553\u001b[0m path \u001b[39m=\u001b[39m Path(path)\n\u001b[1;32m--> 554\u001b[0m adata \u001b[39m=\u001b[39m read(\n\u001b[0;32m    555\u001b[0m     path \u001b[39m/\u001b[39;49m \u001b[39mf\u001b[39;49m\u001b[39m'\u001b[39;49m\u001b[39m{\u001b[39;49;00mprefix\u001b[39m}\u001b[39;49;00m\u001b[39mmatrix.mtx.gz\u001b[39;49m\u001b[39m'\u001b[39;49m,\n\u001b[0;32m    556\u001b[0m     cache\u001b[39m=\u001b[39;49mcache,\n\u001b[0;32m    557\u001b[0m     cache_compression\u001b[39m=\u001b[39;49mcache_compression,\n\u001b[0;32m    558\u001b[0m )\u001b[39m.\u001b[39mT  \u001b[39m# transpose the data\u001b[39;00m\n\u001b[0;32m    559\u001b[0m genes \u001b[39m=\u001b[39m pd\u001b[39m.\u001b[39mread_csv(path \u001b[39m/\u001b[39m \u001b[39mf\u001b[39m\u001b[39m'\u001b[39m\u001b[39m{\u001b[39;00mprefix\u001b[39m}\u001b[39;00m\u001b[39mfeatures.tsv.gz\u001b[39m\u001b[39m'\u001b[39m, header\u001b[39m=\u001b[39m\u001b[39mNone\u001b[39;00m, sep\u001b[39m=\u001b[39m\u001b[39m'\u001b[39m\u001b[39m\\t\u001b[39;00m\u001b[39m'\u001b[39m)\n\u001b[0;32m    560\u001b[0m \u001b[39mif\u001b[39;00m var_names \u001b[39m==\u001b[39m \u001b[39m'\u001b[39m\u001b[39mgene_symbols\u001b[39m\u001b[39m'\u001b[39m:\n",
      "File \u001b[1;32mc:\\Users\\malon\\anaconda3\\envs\\CCHR\\lib\\site-packages\\scanpy\\readwrite.py:112\u001b[0m, in \u001b[0;36mread\u001b[1;34m(filename, backed, sheet, ext, delimiter, first_column_names, backup_url, cache, cache_compression, **kwargs)\u001b[0m\n\u001b[0;32m    110\u001b[0m filename \u001b[39m=\u001b[39m Path(filename)  \u001b[39m# allow passing strings\u001b[39;00m\n\u001b[0;32m    111\u001b[0m \u001b[39mif\u001b[39;00m is_valid_filename(filename):\n\u001b[1;32m--> 112\u001b[0m     \u001b[39mreturn\u001b[39;00m _read(\n\u001b[0;32m    113\u001b[0m         filename,\n\u001b[0;32m    114\u001b[0m         backed\u001b[39m=\u001b[39mbacked,\n\u001b[0;32m    115\u001b[0m         sheet\u001b[39m=\u001b[39msheet,\n\u001b[0;32m    116\u001b[0m         ext\u001b[39m=\u001b[39mext,\n\u001b[0;32m    117\u001b[0m         delimiter\u001b[39m=\u001b[39mdelimiter,\n\u001b[0;32m    118\u001b[0m         first_column_names\u001b[39m=\u001b[39mfirst_column_names,\n\u001b[0;32m    119\u001b[0m         backup_url\u001b[39m=\u001b[39mbackup_url,\n\u001b[0;32m    120\u001b[0m         cache\u001b[39m=\u001b[39mcache,\n\u001b[0;32m    121\u001b[0m         cache_compression\u001b[39m=\u001b[39mcache_compression,\n\u001b[0;32m    122\u001b[0m         \u001b[39m*\u001b[39m\u001b[39m*\u001b[39mkwargs,\n\u001b[0;32m    123\u001b[0m     )\n\u001b[0;32m    124\u001b[0m \u001b[39m# generate filename and read to dict\u001b[39;00m\n\u001b[0;32m    125\u001b[0m filekey \u001b[39m=\u001b[39m \u001b[39mstr\u001b[39m(filename)\n",
      "File \u001b[1;32mc:\\Users\\malon\\anaconda3\\envs\\CCHR\\lib\\site-packages\\scanpy\\readwrite.py:737\u001b[0m, in \u001b[0;36m_read\u001b[1;34m(filename, backed, sheet, ext, delimiter, first_column_names, backup_url, cache, cache_compression, suppress_cache_warning, **kwargs)\u001b[0m\n\u001b[0;32m    734\u001b[0m     \u001b[39mreturn\u001b[39;00m read_h5ad(path_cache)\n\u001b[0;32m    736\u001b[0m \u001b[39mif\u001b[39;00m \u001b[39mnot\u001b[39;00m is_present:\n\u001b[1;32m--> 737\u001b[0m     \u001b[39mraise\u001b[39;00m \u001b[39mFileNotFoundError\u001b[39;00m(\u001b[39mf\u001b[39m\u001b[39m'\u001b[39m\u001b[39mDid not find file \u001b[39m\u001b[39m{\u001b[39;00mfilename\u001b[39m}\u001b[39;00m\u001b[39m.\u001b[39m\u001b[39m'\u001b[39m)\n\u001b[0;32m    738\u001b[0m logg\u001b[39m.\u001b[39mdebug(\u001b[39mf\u001b[39m\u001b[39m'\u001b[39m\u001b[39mreading \u001b[39m\u001b[39m{\u001b[39;00mfilename\u001b[39m}\u001b[39;00m\u001b[39m'\u001b[39m)\n\u001b[0;32m    739\u001b[0m \u001b[39mif\u001b[39;00m \u001b[39mnot\u001b[39;00m cache \u001b[39mand\u001b[39;00m \u001b[39mnot\u001b[39;00m suppress_cache_warning:\n",
      "\u001b[1;31mFileNotFoundError\u001b[0m: Did not find file \\Users\\malon\\OneDrive\\Documents\\GitHub\\Maloney1\\data\\filtered_gene_bc_matrices_wheelsoff\\matrix.mtx.gz."
     ]
    }
   ],
   "source": [
    "input_file = \"/Users/malon/OneDrive/Documents/GitHub/Maloney1/data/filtered_gene_bc_matrices_wheelsoff\"\n",
    "results_file = \"/Users/malon/OneDrive/Documents/GitHub/Maloney1/write/wheels_off.h5ad\"  # the file that will store the analysis results\n",
    "\n",
    "adata = sc.read_10x_mtx(\n",
    "    input_file,  # the directory with the `.mtx` file\n",
    "    var_names='gene_symbols',                # use gene symbols for the variable names (variables-axis index)\n",
    "    )                              # write a cache file for faster subsequent reading\n",
    "\n",
    "adata.var_names_make_unique()"
   ]
  },
  {
   "cell_type": "code",
   "execution_count": null,
   "metadata": {},
   "outputs": [],
   "source": []
  }
 ],
 "metadata": {
  "kernelspec": {
   "display_name": "CCHR",
   "language": "python",
   "name": "python3"
  },
  "language_info": {
   "codemirror_mode": {
    "name": "ipython",
    "version": 3
   },
   "file_extension": ".py",
   "mimetype": "text/x-python",
   "name": "python",
   "nbconvert_exporter": "python",
   "pygments_lexer": "ipython3",
   "version": "3.10.12"
  },
  "orig_nbformat": 4
 },
 "nbformat": 4,
 "nbformat_minor": 2
}
